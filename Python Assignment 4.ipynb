{
 "cells": [
  {
   "cell_type": "markdown",
   "metadata": {},
   "source": [
    "# Solutions"
   ]
  },
  {
   "cell_type": "markdown",
   "metadata": {},
   "source": [
    "1.1"
   ]
  },
  {
   "cell_type": "code",
   "execution_count": 1,
   "metadata": {},
   "outputs": [
    {
     "name": "stdout",
     "output_type": "stream",
     "text": [
      "Enter the length of first side :5\n",
      "Enter the length of second side :6\n",
      "Enter the length of third side :7\n"
     ]
    },
    {
     "data": {
      "text/plain": [
       "14.696938456699069"
      ]
     },
     "execution_count": 1,
     "metadata": {},
     "output_type": "execute_result"
    }
   ],
   "source": [
    "class Dimensions:\n",
    "    def __init__(self):\n",
    "        self._side1 = int(input(\"Enter the length of first side :\"))\n",
    "        self._side2 = int(input(\"Enter the length of second side :\"))\n",
    "        self._side3 = int(input(\"Enter the length of third side :\"))\n",
    "    \n",
    "    def __str__(self):\n",
    "        return \"Side are : {a} , {b} and {C}\".format(a = self._side1 , b = self._side2 , c = self._side3)\n",
    "    \n",
    "class Triangle(Dimensions):\n",
    "    def __init__(self ):\n",
    "        super(Triangle , self).__init__()\n",
    "    \n",
    "    def area(self):\n",
    "        \"\"\"This returns the area of triangle using Herons Formula\"\"\"\n",
    "        s = (self._side1 + self._side2 + self._side3 ) / 2\n",
    "        return ((s * (s - self._side1) * (s - self._side2) * (s - self._side3)) ** 0.5)\n",
    "\n",
    "\n",
    "t = Triangle()\n",
    "t.area()"
   ]
  },
  {
   "cell_type": "markdown",
   "metadata": {},
   "source": [
    "1.2"
   ]
  },
  {
   "cell_type": "code",
   "execution_count": 3,
   "metadata": {},
   "outputs": [
    {
     "name": "stdout",
     "output_type": "stream",
     "text": [
      "['hurrah', 'amigo']\n"
     ]
    }
   ],
   "source": [
    "list2 = []\n",
    "def filter_long_words(list1 , n):\n",
    "    \"\"\"this function filters the long words as per the length given by user\"\"\"\n",
    "    for i in range(len(list1)):\n",
    "        if len(list1[i]) > n:\n",
    "            list2.append(list1[i])\n",
    "\n",
    "filter_long_words([\"hurrah\" , \"oops\" , \"spy\" , \"cry\" , \"amigo\"] , 4)\n",
    "print(list2)"
   ]
  },
  {
   "cell_type": "markdown",
   "metadata": {},
   "source": [
    "2.1"
   ]
  },
  {
   "cell_type": "code",
   "execution_count": 4,
   "metadata": {},
   "outputs": [
    {
     "data": {
      "text/plain": [
       "[6, 4, 3, 3, 5]"
      ]
     },
     "execution_count": 4,
     "metadata": {},
     "output_type": "execute_result"
    }
   ],
   "source": [
    "def word_length(list1):\n",
    "    \"This function accepts a list of words and returns the list of their corresponding length\"\n",
    "    return [len(list1[i]) for i in range(len(list1))]\n",
    "\n",
    "word_length([\"hurrah\" , \"oops\" , \"spy\" , \"cry\" , \"amigo\"])"
   ]
  },
  {
   "cell_type": "markdown",
   "metadata": {},
   "source": [
    "2.2"
   ]
  },
  {
   "cell_type": "code",
   "execution_count": 5,
   "metadata": {},
   "outputs": [
    {
     "data": {
      "text/plain": [
       "True"
      ]
     },
     "execution_count": 5,
     "metadata": {},
     "output_type": "execute_result"
    }
   ],
   "source": [
    "def check_vowel(ch):\n",
    "    vowels = ['a' , 'e' , 'i' , 'o' , 'u' , 'A' , 'E' , 'I' , 'O' , 'U']\n",
    "    if ch in vowels:\n",
    "        return True\n",
    "    return False\n",
    "\n",
    "check_vowel('A')"
   ]
  },
  {
   "cell_type": "code",
   "execution_count": null,
   "metadata": {},
   "outputs": [],
   "source": []
  }
 ],
 "metadata": {
  "kernelspec": {
   "display_name": "Python 3",
   "language": "python",
   "name": "python3"
  },
  "language_info": {
   "codemirror_mode": {
    "name": "ipython",
    "version": 3
   },
   "file_extension": ".py",
   "mimetype": "text/x-python",
   "name": "python",
   "nbconvert_exporter": "python",
   "pygments_lexer": "ipython3",
   "version": "3.8.5"
  }
 },
 "nbformat": 4,
 "nbformat_minor": 4
}
