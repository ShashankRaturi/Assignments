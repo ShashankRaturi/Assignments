{
 "cells": [
  {
   "cell_type": "code",
   "execution_count": 1,
   "id": "99125b37",
   "metadata": {},
   "outputs": [],
   "source": [
    "import numpy as np"
   ]
  },
  {
   "cell_type": "markdown",
   "id": "328100ed",
   "metadata": {},
   "source": [
    "# 1."
   ]
  },
  {
   "cell_type": "code",
   "execution_count": 2,
   "id": "ae0074c0",
   "metadata": {},
   "outputs": [],
   "source": [
    "def VandermondeMatrix(Arr , N , increasing):\n",
    "    \"\"\"\n",
    "    Arr -> Input array\n",
    "    N   -> Number of columns\n",
    "    increasing -> boolean values which tells whether the power will be increased or decreased\n",
    "    \n",
    "    np.column_stack(1d-array) -> it stacks one-dimension array into the column of 2-d array\n",
    "    \n",
    "    \"\"\"\n",
    "    if increasing == True:\n",
    "        return np.column_stack([Arr**i for i in range(N)])\n",
    "    else :\n",
    "        return np.column_stack([Arr**(N - i - 1) for i in range(N)])\n",
    "\n"
   ]
  },
  {
   "cell_type": "code",
   "execution_count": 3,
   "id": "f8a53670",
   "metadata": {},
   "outputs": [
    {
     "data": {
      "text/plain": [
       "array([[    1,     1,     1,     1,     1,     1,     1],\n",
       "       [   64,    32,    16,     8,     4,     2,     1],\n",
       "       [  729,   243,    81,    27,     9,     3,     1],\n",
       "       [15625,  3125,   625,   125,    25,     5,     1]])"
      ]
     },
     "execution_count": 3,
     "metadata": {},
     "output_type": "execute_result"
    }
   ],
   "source": [
    "VandermondeMatrix((np.array([1,2,3,5]) ), 7 , False)"
   ]
  },
  {
   "cell_type": "code",
   "execution_count": 4,
   "id": "5cb9efe1",
   "metadata": {},
   "outputs": [
    {
     "data": {
      "text/plain": [
       "array([[  1,   5,  25, 125],\n",
       "       [  1,   3,   9,  27],\n",
       "       [  1,   7,  49, 343]])"
      ]
     },
     "execution_count": 4,
     "metadata": {},
     "output_type": "execute_result"
    }
   ],
   "source": [
    "VandermondeMatrix((np.array([5,3,7]) ), 4 , True)"
   ]
  },
  {
   "cell_type": "markdown",
   "id": "2992a296",
   "metadata": {},
   "source": [
    "# 2."
   ]
  },
  {
   "cell_type": "code",
   "execution_count": 6,
   "id": "a3340e64",
   "metadata": {},
   "outputs": [
    {
     "name": "stdout",
     "output_type": "stream",
     "text": [
      "y1 = 25.0000\n",
      "y2 = 35.0000\n",
      "y3 = 45.0000\n",
      "y4 = 55.0000\n",
      "y5 = 65.0000\n",
      "y6 = 75.0000\n",
      "y7 = 85.0000\n"
     ]
    }
   ],
   "source": [
    "def movingAverage(Arr , k):\n",
    "    \"\"\"\n",
    "    this returns the moving averages of an array for some window of k values , k > 0\n",
    "    \"\"\"\n",
    "    for i in range(len(Arr) - k + 1):\n",
    "        print(\"y{a} = {b:.4f}\".format(a = i + 1 , b = sum(Arr[i:i+k])/k))\n",
    "        \n",
    "arr1 = np.arange(10,101,10)       \n",
    "movingAverage(arr1 , 4)"
   ]
  },
  {
   "cell_type": "code",
   "execution_count": 7,
   "id": "e92c3ea9",
   "metadata": {},
   "outputs": [
    {
     "name": "stdout",
     "output_type": "stream",
     "text": [
      "y1 = 5.0000\n",
      "y2 = 4.6667\n",
      "y3 = 5.6667\n",
      "y4 = 6.6667\n",
      "y5 = 9.6667\n",
      "y6 = 28.6667\n",
      "y7 = 49.3333\n",
      "y8 = 72.6667\n",
      "y9 = 84.0000\n",
      "y10 = 93.3333\n",
      "y11 = 116.3333\n"
     ]
    }
   ],
   "source": [
    "#testing moving average\n",
    "arr2 = np.array([3, 5, 7, 2, 8, 10, 11, 65, 72, 81, 99, 100, 150])\n",
    "movingAverage(arr2 , 3)"
   ]
  },
  {
   "cell_type": "code",
   "execution_count": null,
   "id": "1ef3c155",
   "metadata": {},
   "outputs": [],
   "source": []
  }
 ],
 "metadata": {
  "kernelspec": {
   "display_name": "Python 3",
   "language": "python",
   "name": "python3"
  },
  "language_info": {
   "codemirror_mode": {
    "name": "ipython",
    "version": 3
   },
   "file_extension": ".py",
   "mimetype": "text/x-python",
   "name": "python",
   "nbconvert_exporter": "python",
   "pygments_lexer": "ipython3",
   "version": "3.8.8"
  }
 },
 "nbformat": 4,
 "nbformat_minor": 5
}
